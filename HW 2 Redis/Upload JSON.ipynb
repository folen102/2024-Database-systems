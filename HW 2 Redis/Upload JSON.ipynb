{
 "cells": [
  {
   "cell_type": "code",
   "execution_count": 2,
   "metadata": {},
   "outputs": [
    {
     "name": "stdout",
     "output_type": "stream",
     "text": [
      "Collecting redis\n",
      "  Downloading redis-5.0.3-py3-none-any.whl (251 kB)\n",
      "Collecting async-timeout>=4.0.3\n",
      "  Downloading async_timeout-4.0.3-py3-none-any.whl (5.7 kB)\n",
      "Installing collected packages: async-timeout, redis\n",
      "Successfully installed async-timeout-4.0.3 redis-5.0.3\n"
     ]
    }
   ],
   "source": [
    "!pip install redis"
   ]
  },
  {
   "cell_type": "code",
   "execution_count": 1,
   "metadata": {},
   "outputs": [],
   "source": [
    "import json\n",
    "import redis"
   ]
  },
  {
   "cell_type": "code",
   "execution_count": 2,
   "metadata": {},
   "outputs": [
    {
     "name": "stderr",
     "output_type": "stream",
     "text": [
      "C:\\Users\\uchiha\\AppData\\Local\\Temp\\ipykernel_18052\\3438893779.py:14: DeprecationWarning: Redis.hmset() is deprecated. Use Redis.hset() instead.\n",
      "  r.hmset(item['key'], item['value'])\n"
     ]
    },
    {
     "name": "stdout",
     "output_type": "stream",
     "text": [
      "Данные успешно загружены в Redis.\n"
     ]
    }
   ],
   "source": [
    "# Подключение к Redis\n",
    "r = redis.Redis(host='localhost', port=6379, db=0)\n",
    "\n",
    "# Загрузка данных из JSON файла\n",
    "with open('generated JSON.json', 'r') as file:\n",
    "    data = json.load(file)\n",
    "\n",
    "# Загрузка строк\n",
    "for item in data['strings']:\n",
    "    r.set(item['key'], item['value'])\n",
    "\n",
    "# Загрузка хешей\n",
    "for item in data['hashes']:\n",
    "    r.hmset(item['key'], item['value'])\n",
    "\n",
    "# Загрузка отсортированных множеств\n",
    "for item in data['zsets']:\n",
    "    for member in item['value']:\n",
    "        r.zadd(item['key'], {member['member']: member['score']})\n",
    "\n",
    "# Загрузка списков\n",
    "for item in data['lists']:\n",
    "    for value in item['value']:\n",
    "        r.rpush(item['key'], value)\n",
    "\n",
    "print('Данные успешно загружены в Redis.')\n"
   ]
  },
  {
   "cell_type": "code",
   "execution_count": null,
   "metadata": {},
   "outputs": [],
   "source": []
  }
 ],
 "metadata": {
  "kernelspec": {
   "display_name": "main",
   "language": "python",
   "name": "python3"
  },
  "language_info": {
   "codemirror_mode": {
    "name": "ipython",
    "version": 3
   },
   "file_extension": ".py",
   "mimetype": "text/x-python",
   "name": "python",
   "nbconvert_exporter": "python",
   "pygments_lexer": "ipython3",
   "version": "3.10.11"
  }
 },
 "nbformat": 4,
 "nbformat_minor": 2
}
